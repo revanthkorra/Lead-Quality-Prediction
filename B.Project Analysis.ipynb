{
 "cells": [
  {
   "cell_type": "markdown",
   "id": "b7a257f1",
   "metadata": {},
   "source": [
    "# **Lead Quality Prediction – FicZon Inc**\n",
    "\n",
    "## **Objective**\n",
    "- Automate the **lead quality evaluation** process using Machine Learning.  \n",
    "- Predict lead category (**High Potential vs Low Potential**) to help sales teams prioritize leads.\n",
    "\n",
    "---\n",
    "\n",
    "## **Problem Statement**\n",
    "- FicZon Inc faces a **drop in sales performance** due to increasing competition and manual lead evaluation.  \n",
    "- Current quality checks happen **post-sale and are subjective**.  \n",
    "- ML-based predictive classification aims to **improve conversion rates and sales productivity**.\n",
    "\n",
    "---\n",
    "\n",
    "## **Dataset**\n",
    "- **Records:** 7,422  \n",
    "- **Features:** 9 (Created Date, Source, Mobile, Email, Sales Agent, Location, Delivery Mode, Product ID, Status)  \n",
    "- **Target column:** `Status` (categorical lead quality)\n",
    "\n",
    "---\n",
    "\n",
    "## **Steps in Project**\n",
    "1. **EDA:** Analyzed lead sources, agents, and status distribution to identify patterns.  \n",
    "2. **Data Cleaning:** Removed duplicates, handled missing values, mapped lead quality into binary categories.  \n",
    "3. **Feature Engineering:** Extracted date features & applied **Target Mean Encoding** for categorical variables.  \n",
    "4. **Model Building:** Tested multiple models – Logistic Regression, Decision Tree, Random Forest, Gradient Boosting, XGBoost, LightGBM, AdaBoost.  \n",
    "5. **Model Evaluation:** Evaluated using **Accuracy, F1-Score, and ROC-AUC**.  \n",
    "   - Best models achieved **~85–91% accuracy after tuning**.\n",
    "\n",
    "---\n",
    "\n",
    "## **Outcome**\n",
    "- Models like **XGBoost** and **LightGBM** outperformed others, showing balanced metrics (**Accuracy/F1/ROC-AUC**).  \n",
    "- The ML system can now **score leads in real-time**, improving sales effectiveness and focusing efforts on high-potential leads.\n",
    "\n"
   ]
  },
  {
   "cell_type": "code",
   "execution_count": null,
   "id": "fe65a766",
   "metadata": {},
   "outputs": [],
   "source": []
  }
 ],
 "metadata": {
  "kernelspec": {
   "display_name": "Python 3 (ipykernel)",
   "language": "python",
   "name": "python3"
  },
  "language_info": {
   "codemirror_mode": {
    "name": "ipython",
    "version": 3
   },
   "file_extension": ".py",
   "mimetype": "text/x-python",
   "name": "python",
   "nbconvert_exporter": "python",
   "pygments_lexer": "ipython3",
   "version": "3.11.4"
  }
 },
 "nbformat": 4,
 "nbformat_minor": 5
}
